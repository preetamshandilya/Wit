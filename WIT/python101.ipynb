{
 "cells": [
  {
   "cell_type": "markdown",
   "metadata": {},
   "source": [
    "Arrays"
   ]
  },
  {
   "cell_type": "code",
   "execution_count": 5,
   "metadata": {},
   "outputs": [
    {
     "name": "stdout",
     "output_type": "stream",
     "text": [
      "[1, 2, 3, 4]\n"
     ]
    },
    {
     "data": {
      "text/plain": [
       "1"
      ]
     },
     "execution_count": 5,
     "metadata": {},
     "output_type": "execute_result"
    }
   ],
   "source": [
    "#using array module\n",
    "from array import array\n",
    "arr = array('i' , [1,2,3,4]).tolist()\n",
    "print(arr)\n",
    "arr[0]"
   ]
  },
  {
   "cell_type": "markdown",
   "metadata": {},
   "source": [
    "understanding difference between continue , break , pass"
   ]
  },
  {
   "cell_type": "code",
   "execution_count": 139,
   "metadata": {},
   "outputs": [
    {
     "name": "stdout",
     "output_type": "stream",
     "text": [
      "1\n",
      "2\n",
      "3\n",
      "4\n",
      "5\n"
     ]
    }
   ],
   "source": [
    "arr = [1,2,3,4,5] \n",
    "# for i in range(len(arr)):\n",
    "#     if arr[i] > 3:\n",
    "#         break\n",
    "#     print(arr[i])# when we hit arr[i] = 4 we get out of the for loop\n",
    "    \n",
    "    \n",
    "# print('\\n')\n",
    "# arr = [1,2,3,4,5]    \n",
    "# for i in range(len(arr)):\n",
    "#     if arr[i] > 3:\n",
    "#         continue\n",
    "#     print(arr[i]) # when we hit arr[i] > 3 it will skip\n",
    "#                     #all the values greater than 3 which 4 in this case\n",
    "\n",
    "# print('\\n')\n",
    "\n",
    "for i in range(len(arr)):\n",
    "    if arr[i] > 2:\n",
    "        pass\n",
    "    print(arr[i])  # pass is used to create empty block of code -> here this if \n",
    "#                  #block has no significance (its a blank block of code)"
   ]
  },
  {
   "cell_type": "markdown",
   "metadata": {},
   "source": [
    "while loop"
   ]
  },
  {
   "cell_type": "code",
   "execution_count": 22,
   "metadata": {},
   "outputs": [
    {
     "name": "stdout",
     "output_type": "stream",
     "text": [
      "1 2 3 4 "
     ]
    }
   ],
   "source": [
    "i = 1\n",
    "while i < 5:\n",
    "    print(i,end=' ')\n",
    "    i+=1"
   ]
  },
  {
   "cell_type": "markdown",
   "metadata": {},
   "source": [
    "understanding user input through array"
   ]
  },
  {
   "cell_type": "code",
   "execution_count": 29,
   "metadata": {},
   "outputs": [
    {
     "name": "stdout",
     "output_type": "stream",
     "text": [
      "[1, 2, 3, 4, 5]\n"
     ]
    }
   ],
   "source": [
    "from array import array\n",
    "n = int(input('enter number of element:'))\n",
    "arr = array('i' , []).tolist() # here we are using tolist() method to convert array into list \n",
    "#otherwise it will give output as (array('i', [1, 2, 3, 4, 5]))\n",
    "\n",
    "for i in range(n):\n",
    "    num = int(input('enter number:'))\n",
    "    arr.append(num)\n",
    "    \n",
    "print(arr)\n"
   ]
  },
  {
   "cell_type": "markdown",
   "metadata": {},
   "source": [
    "Initilization of tuple , set  , list , dict"
   ]
  },
  {
   "cell_type": "code",
   "execution_count": 52,
   "metadata": {},
   "outputs": [
    {
     "name": "stdout",
     "output_type": "stream",
     "text": [
      "<class 'tuple'> <class 'set'> <class 'list'> <class 'dict'>\n"
     ]
    }
   ],
   "source": [
    "t = ()  # (1,2,3)\n",
    "s = {1,2,3} # set()\n",
    "l = [] # [1,2,3]\n",
    "d = {} # dict()\n",
    "print(type(t),\n",
    "type(s),\n",
    "type(l),\n",
    "type(d))"
   ]
  },
  {
   "cell_type": "markdown",
   "metadata": {},
   "source": [
    "formatting variable"
   ]
  },
  {
   "cell_type": "code",
   "execution_count": 155,
   "metadata": {},
   "outputs": [
    {
     "name": "stdout",
     "output_type": "stream",
     "text": [
      "my age is 10\n",
      "my age is 10\n",
      "my age is 10\n"
     ]
    }
   ],
   "source": [
    "age = '10'\n",
    "print(f'my age is {age}') \n",
    "\n",
    "print('my age is' ,age)\n",
    "\n",
    "print('my age is '+age) # it wont work if age is anything but string"
   ]
  },
  {
   "cell_type": "markdown",
   "metadata": {},
   "source": [
    "printing multiple lines in string"
   ]
  },
  {
   "cell_type": "code",
   "execution_count": 62,
   "metadata": {},
   "outputs": [
    {
     "name": "stdout",
     "output_type": "stream",
     "text": [
      "HELLO PLEASE HELP ME\n",
      "I AM UNDER THE WATER!\n",
      "HERE TOO MUCH RAINING\n",
      "UMMMMMMMMM-MMMMMM\n",
      "\n",
      "\n",
      "Hello -> hELLO\n"
     ]
    }
   ],
   "source": [
    "s = '''hello please help me\n",
    "i am under the water!\n",
    "here too much raining\n",
    "ummmmmmmmm-mmmmmm'''\n",
    "\n",
    "print(s.swapcase())\n",
    "print('\\n')\n",
    "# swapcase() used to change the case of given string(upper become lower and vice versa)\n",
    "\n",
    "x = 'Hello'\n",
    "print(x,'->',x.swapcase()) # else use lower for coneverting all into lower and upper for vice versa"
   ]
  },
  {
   "cell_type": "markdown",
   "metadata": {},
   "source": [
    "random number generation\n"
   ]
  },
  {
   "cell_type": "code",
   "execution_count": 57,
   "metadata": {},
   "outputs": [
    {
     "name": "stdout",
     "output_type": "stream",
     "text": [
      "2\n",
      "9\n"
     ]
    }
   ],
   "source": [
    "import random\n",
    "print(random.randint(1,10))\n",
    "print(random.randrange(1,10))"
   ]
  },
  {
   "cell_type": "markdown",
   "metadata": {},
   "source": [
    "Elimination in list"
   ]
  },
  {
   "cell_type": "code",
   "execution_count": 72,
   "metadata": {},
   "outputs": [
    {
     "name": "stdout",
     "output_type": "stream",
     "text": [
      "[0, 1, 2, 3, 4, 5, 6, 7, 8, 9]\n",
      "[1, 2, 3, 4, 5, 6, 7, 8, 9]\n",
      "2\n",
      "[1, 3, 4, 6, 7, 8, 9]\n"
     ]
    }
   ],
   "source": [
    "ls = [i for i in range(10)]\n",
    "print(ls)\n",
    " # using del \n",
    "del ls[0] # if used del ls -> it will delete entire list\n",
    "print(ls)\n",
    "\n",
    "# using pop\n",
    "print(ls.pop(1)) # removes last element if index not mentioned else remove element at given index\n",
    "# second element removed which is 2 here\n",
    "\n",
    "ls.remove(5) # remove the given value from the list \n",
    "print(ls)\n"
   ]
  },
  {
   "cell_type": "code",
   "execution_count": 77,
   "metadata": {},
   "outputs": [
    {
     "name": "stdout",
     "output_type": "stream",
     "text": [
      "dict_values([('Preetam', 22)])\n"
     ]
    }
   ],
   "source": [
    "dic = {('Name' , \"Age\") : (\"Preetam\" ,22 ) }\n"
   ]
  },
  {
   "cell_type": "code",
   "execution_count": 84,
   "metadata": {},
   "outputs": [
    {
     "name": "stdout",
     "output_type": "stream",
     "text": [
      "[0, 1, 2, 3, 4]\n",
      "[0, 1, 2, 3, 4, 6]\n",
      "[0, 1, 2, 3, 4, 6]\n"
     ]
    }
   ],
   "source": [
    "x = [i for i in range(5)]\n",
    "print(x)\n",
    "\n",
    "def add_(n):\n",
    "    global x\n",
    "    x.append(n)\n",
    "    print(x)\n",
    "add_(6)\n",
    "print(x)"
   ]
  },
  {
   "cell_type": "code",
   "execution_count": 91,
   "metadata": {},
   "outputs": [
    {
     "data": {
      "text/plain": [
       "[4]"
      ]
     },
     "execution_count": 91,
     "metadata": {},
     "output_type": "execute_result"
    }
   ],
   "source": [
    "\n",
    "def _add(x):\n",
    "    ls = []\n",
    "    def fn():\n",
    "        nonlocal ls \n",
    "        ls.append(x)\n",
    "        # print(ls) \n",
    "    fn()\n",
    "    return ls\n",
    "\n",
    "_add(4)"
   ]
  },
  {
   "cell_type": "markdown",
   "metadata": {},
   "source": [
    "call by value and call by reference"
   ]
  },
  {
   "cell_type": "code",
   "execution_count": 100,
   "metadata": {},
   "outputs": [
    {
     "name": "stdout",
     "output_type": "stream",
     "text": [
      "11\n",
      "10\n",
      "[1, 2, 3, 4]\n",
      "[1, 2, 3, 4]\n"
     ]
    }
   ],
   "source": [
    "def fn(x):# used for immutable object\n",
    "    x+=1\n",
    "    print(x)\n",
    "    \n",
    "x = 10 \n",
    "fn(x)\n",
    "print(x)\n",
    "\n",
    "def _add(list,x):\n",
    "    list.append(x)\n",
    "    print(list)\n",
    "    \n",
    "ls = [1,2,3]\n",
    "_add(ls,4)\n",
    "print(ls) # call by reference (mutable objects)\n",
    "\n",
    "\n"
   ]
  },
  {
   "cell_type": "markdown",
   "metadata": {},
   "source": [
    "# *OOPS*"
   ]
  },
  {
   "cell_type": "code",
   "execution_count": 114,
   "metadata": {},
   "outputs": [
    {
     "name": "stdout",
     "output_type": "stream",
     "text": [
      "It is a dog with name Tom and age 7\n",
      "voice of dog is woof-woof\n"
     ]
    }
   ],
   "source": [
    "class Animal:\n",
    "    species = 'It contains name of the species' # class attribtue\n",
    "    \n",
    "    # def __init__(self) -> None:\n",
    "    #     pass\n",
    "    # init method is like a constructor method (it executes, the moment instance(object) is created)\n",
    "    \n",
    "    \n",
    "    def __init__(self ,sepecies ,name , age): # instance attribute\n",
    "        self.species = sepecies\n",
    "        self.name = name\n",
    "        self.age = age\n",
    "    \n",
    "    def __str__(self):\n",
    "        return f\"{self.species}({self.name}({self.age}))\"\n",
    "        \n",
    "    def des(self):\n",
    "        print(f'It is a {self.species} with name {self.name} and age {self.age}')\n",
    "        \n",
    "    def voice(self,sound):\n",
    "        print(f'voice of {self.species} is {sound}')\n",
    "        \n",
    "an = Animal('dog' , 'Tom' , 7)\n",
    "an.des()\n",
    "# print(an.age) # instance attribute\n",
    "# print(Animal.species) #class attribute\n",
    "\n",
    "# print(an)\n",
    "\n",
    "an.voice('woof-woof')\n",
    "        \n",
    "    \n",
    "    "
   ]
  },
  {
   "cell_type": "code",
   "execution_count": 115,
   "metadata": {},
   "outputs": [],
   "source": [
    "class Animal:\n",
    "    def __init__(self  ,name):\n",
    "        self.name = name\n",
    "        \n",
    "    def speak(self):\n",
    "        return f\"{self.name} makes a sound\"\n",
    "    \n",
    "class Dog(Animal):\n",
    "    def __init__(self , name , breed):\n",
    "        self.breed = breed\n",
    "        super.__init__(name)\n",
    "        \n",
    "    def speak(self):\n",
    "        return super().speak()\n",
    "        "
   ]
  },
  {
   "cell_type": "markdown",
   "metadata": {},
   "source": [
    "ADT Stack"
   ]
  },
  {
   "cell_type": "code",
   "execution_count": 131,
   "metadata": {},
   "outputs": [
    {
     "name": "stdout",
     "output_type": "stream",
     "text": [
      "[3, 2, 1]\n"
     ]
    }
   ],
   "source": [
    "class Stack:\n",
    "    def __init__(self):\n",
    "        self.data = []\n",
    "        \n",
    "    def push(self , val):\n",
    "        self.data.append(val)\n",
    "        \n",
    "    def is_empty(self):\n",
    "        return len(self.data) == 0\n",
    "    \n",
    "    def pop(self):\n",
    "        if self.is_empty():\n",
    "            raise IndexError(\"stack is empty\")\n",
    "\n",
    "        return self.data.pop()\n",
    "    \n",
    "    def peek(self):\n",
    "        print(self.data[-1])\n",
    "        \n",
    "    def print_stack(self):\n",
    "        print(self.data[::-1])\n",
    "        \n",
    "st = Stack()\n",
    "st.push(1)\n",
    "st.push(2)\n",
    "st.push(3)\n",
    "st.push(4)\n",
    "st.pop()\n",
    "st.print_stack()\n",
    "    \n",
    "        \n",
    "\n",
    "        \n",
    "            "
   ]
  },
  {
   "cell_type": "markdown",
   "metadata": {},
   "source": [
    "single -> multiple -> multilevel -> heirarical -> hybrid\n",
    "\n",
    "A -> B\n",
    "\n",
    "A -> B A ->C \n",
    "\n",
    "A -> B -> C\n",
    "\n",
    "A -> B\n",
    "A -> C\n",
    "\n",
    "A->B\n",
    "B ->C\n",
    "B -> D"
   ]
  },
  {
   "cell_type": "code",
   "execution_count": 140,
   "metadata": {},
   "outputs": [],
   "source": [
    "class A:\n",
    "    x = \"\" # class attribute\n",
    "    def __init__(self) -> None:\n",
    "        pass  # constructor\n",
    "    \n",
    "class C():\n",
    "    pass\n",
    "    \n",
    "class B(A,C):\n",
    "    pass\n"
   ]
  },
  {
   "cell_type": "code",
   "execution_count": 150,
   "metadata": {},
   "outputs": [
    {
     "name": "stdout",
     "output_type": "stream",
     "text": [
      "tom sounds woof\n"
     ]
    },
    {
     "data": {
      "text/plain": [
       "'lebra'"
      ]
     },
     "execution_count": 150,
     "metadata": {},
     "output_type": "execute_result"
    }
   ],
   "source": [
    "class Animal:\n",
    "    # species = \"Class contains species\"\n",
    "    def __init__(self,sepcies , name):\n",
    "        self.name = name\n",
    "        self.species = sepcies\n",
    "        \n",
    "    def voice(self , sound):\n",
    "        print(f'{self.name} sounds {sound}')\n",
    "\n",
    "class Dog(Animal):\n",
    "    def __init__(self, sepcies, name):\n",
    "        super().__init__(sepcies, name)\n",
    "        \n",
    "    def voice(self, sound):\n",
    "        return super().voice(sound)\n",
    "    \n",
    "dog = Dog('lebra' , 'tom')\n",
    "dog.voice('woof')\n",
    "dog.species\n",
    "    \n",
    "        "
   ]
  },
  {
   "cell_type": "code",
   "execution_count": 152,
   "metadata": {},
   "outputs": [
    {
     "name": "stdout",
     "output_type": "stream",
     "text": [
      "2020\n"
     ]
    }
   ],
   "source": [
    "class Car:\n",
    "    def __init__(self, make, model, year):\n",
    "        self.make = make  # Public attribute\n",
    "        self._model = model  # Protected attribute\n",
    "        self.__year = year  # Private attribute\n",
    "\n",
    "    def _get_year(self):\n",
    "        return self.__year\n",
    "\n",
    "    def set_year(self, year):\n",
    "        if year > 1885:  # The first car was invented around 1886\n",
    "            self.__year = year\n",
    "        else:\n",
    "            print(\"Invalid year\")\n",
    "\n",
    "    def display_info(self):\n",
    "        print(f\"Car: {self.make} {self._model}, Year: {self.__year}\")\n",
    "\n",
    "\n",
    "# Creating an instance of the Car class\n",
    "my_car = Car(\"Toyota\", \"Camry\", 2020)\n",
    "\n",
    "# Accessing public attribute\n",
    "# print(my_car.make)  # Output: Toyota\n",
    "\n",
    "# # Accessing protected attribute (not recommended)\n",
    "# print(my_car._model)  # Output: Camry\n",
    "\n",
    "# Trying to access private attribute (will raise an AttributeError)\n",
    "# print(my_car.__year)  # Uncommenting this line will cause an error\n",
    "\n",
    "# Accessing private attribute using getter method\n",
    "print(my_car._get_year())  # Output: 2020\n",
    "\n",
    "# Modifying private attribute using setter method\n",
    "# my_car.set_year(2021)\n",
    "# print(my_car.get_year())  # Output: 2021\n",
    "\n",
    "# Displaying car info using a public method\n",
    "# my_car.display_info()  # Output: Car: Toyota Camry, Year: 2021\n"
   ]
  },
  {
   "cell_type": "code",
   "execution_count": 156,
   "metadata": {},
   "outputs": [
    {
     "name": "stdout",
     "output_type": "stream",
     "text": [
      "3\n",
      "10\n"
     ]
    }
   ],
   "source": [
    "class Math:\n",
    "    def add(self, *args):\n",
    "        return sum(args)\n",
    "\n",
    "math = Math()\n",
    "print(math.add(1, 2))        # Outputs: 3\n",
    "print(math.add(1, 2, 3, 4))  # Outputs: 10\n"
   ]
  },
  {
   "cell_type": "code",
   "execution_count": null,
   "metadata": {},
   "outputs": [],
   "source": [
    "# Define a class with a method\n",
    "class MyClass:\n",
    "    def greet(self):\n",
    "        return \"Hello, World!\"\n",
    "\n",
    "# Define a function that will be used to monkey patch MyClass\n",
    "def monkey_patch(self):\n",
    "    return \"Greetings from monkey patch!\"\n",
    "\n",
    "# Monkey patching MyClass with the new method\n",
    "MyClass.greet = monkey_patch\n",
    "\n",
    "# Now when we create an instance of MyClass and call greet(),\n",
    "# it will invoke the monkey patched method\n",
    "obj = MyClass()\n",
    "print(obj.greet())  # Output: \"Greetings from monkey patch!\"\n"
   ]
  }
 ],
 "metadata": {
  "kernelspec": {
   "display_name": "base",
   "language": "python",
   "name": "python3"
  },
  "language_info": {
   "codemirror_mode": {
    "name": "ipython",
    "version": 3
   },
   "file_extension": ".py",
   "mimetype": "text/x-python",
   "name": "python",
   "nbconvert_exporter": "python",
   "pygments_lexer": "ipython3",
   "version": "3.11.5"
  }
 },
 "nbformat": 4,
 "nbformat_minor": 2
}
