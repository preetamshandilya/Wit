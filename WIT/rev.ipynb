{
 "cells": [
  {
   "cell_type": "markdown",
   "metadata": {},
   "source": [
    "What is python?\n",
    "\n",
    "1. High-level language -> it multiple libraries + code easliy readable + no direct machine interaction + no memeory management required \n",
    "\n",
    "2. Object oriented -> inheritance , encapsulation , abstraction and polymorphism\n",
    "\n",
    "3. Interpreted -> need not to be compiled before running + code can be exected line by line using interpreter"
   ]
  },
  {
   "cell_type": "markdown",
   "metadata": {},
   "source": [
    "Applicaton of Python :\n",
    "\n",
    "1. Web development - > differet frameworks -> django + flask etc\n",
    "2. Machine Learning -> Ml + Deep learning\n",
    "3. Data Science -> data analysis + web scrapping\n"
   ]
  },
  {
   "cell_type": "markdown",
   "metadata": {},
   "source": [
    "Python Features and Syntax"
   ]
  },
  {
   "cell_type": "markdown",
   "metadata": {},
   "source": [
    "Data-types"
   ]
  },
  {
   "cell_type": "code",
   "execution_count": 6,
   "metadata": {},
   "outputs": [],
   "source": [
    "# null data-types\n",
    "x  = None\n",
    "\n",
    "# numeric data-types\n",
    "\n",
    "x = int() # 3\n",
    "x = float() # 3.50\n",
    "x = complex() # 2 + 3j\n",
    "\n",
    "# list\n",
    "ls = [] # [1,2,3]\n",
    "#tuple\n",
    "t = () # (1,2,3)\n",
    "#set\n",
    "s = set() # {1,2,3}\n",
    "#dict\n",
    "d = dict() # {}\n",
    "# type(d)\n",
    "#string\n",
    "s = ''' '''# \"hello world\""
   ]
  },
  {
   "cell_type": "markdown",
   "metadata": {},
   "source": [
    "List"
   ]
  },
  {
   "cell_type": "code",
   "execution_count": 12,
   "metadata": {},
   "outputs": [
    {
     "name": "stdout",
     "output_type": "stream",
     "text": [
      "[1, 3]\n",
      "[1]\n"
     ]
    }
   ],
   "source": [
    "ls = []\n",
    "#append\n",
    "for i in range(1,5,2):\n",
    "    ls.append(i)\n",
    "print(ls)\n",
    "# range(start_index , end_index , jump)\n",
    "\n",
    "#remove -> del , remove , pop\n",
    "# del ls[0] # index\n",
    "# ls.remove(1) # remove(value)\n",
    "ls.pop(1) # pop(index)\n",
    "print(ls)"
   ]
  },
  {
   "cell_type": "markdown",
   "metadata": {},
   "source": [
    "Array"
   ]
  },
  {
   "cell_type": "code",
   "execution_count": 22,
   "metadata": {},
   "outputs": [
    {
     "name": "stdout",
     "output_type": "stream",
     "text": [
      "[1, 2, 3, 4, 5]\n"
     ]
    }
   ],
   "source": [
    "# array = int , 5\n",
    "# ls = [False]*5\n",
    "\n",
    "from array import array\n",
    "\n",
    "\n",
    "arr = array('i' , [1,2,3,4]).tolist()\n",
    "arr.append(5)\n",
    "print(arr)\n"
   ]
  },
  {
   "cell_type": "code",
   "execution_count": 72,
   "metadata": {},
   "outputs": [
    {
     "name": "stdout",
     "output_type": "stream",
     "text": [
      "[1, 2, 3, 4, 5]\n",
      "1\n"
     ]
    }
   ],
   "source": [
    "from array import array\n",
    "\n",
    "arr = array('i', []).tolist()\n",
    "n = int(input(\"enter n: \"))\n",
    "for i in range(n):\n",
    "    x = int(input(\"enter value: \"))\n",
    "    arr.append(x)\n",
    "    \n",
    "print(arr)\n",
    "\n",
    "val = int(input(\"enter value: \"))  \n",
    "k = 0\n",
    "for u in arr:\n",
    "    if u == val:\n",
    "        print(k)\n",
    "        break\n",
    "    k += 1  \n",
    "\n"
   ]
  },
  {
   "cell_type": "markdown",
   "metadata": {},
   "source": [
    "Tuple"
   ]
  },
  {
   "cell_type": "code",
   "execution_count": 38,
   "metadata": {},
   "outputs": [
    {
     "name": "stdout",
     "output_type": "stream",
     "text": [
      "(1, 2, 3, 4, 5)\n"
     ]
    }
   ],
   "source": [
    "t  =(1,2,3)\n",
    "t1 = t + (4,5)\n",
    "print(t1)"
   ]
  },
  {
   "cell_type": "code",
   "execution_count": 89,
   "metadata": {},
   "outputs": [
    {
     "name": "stdout",
     "output_type": "stream",
     "text": [
      "(1, 2, 3, 1, 2, 3, 1, 2, 3)\n"
     ]
    }
   ],
   "source": [
    "t = (1,2,3)\n",
    "t1 = t*3\n",
    "print(t1)"
   ]
  },
  {
   "cell_type": "code",
   "execution_count": 40,
   "metadata": {},
   "outputs": [
    {
     "name": "stdout",
     "output_type": "stream",
     "text": [
      "{0: 0, 1: 1, 2: 4, 3: 9, 4: 16}\n"
     ]
    }
   ],
   "source": [
    "dict = {} # key : value dict[key] -> value\n",
    "\n",
    "for i in range(5):\n",
    "    dict[i] = i*i\n",
    "print(dict)\n",
    "    \n"
   ]
  },
  {
   "cell_type": "code",
   "execution_count": 45,
   "metadata": {},
   "outputs": [
    {
     "name": "stdout",
     "output_type": "stream",
     "text": [
      "{'Preetam': 22, 'Kaushal': 22, 'Harsh': 22}\n"
     ]
    }
   ],
   "source": [
    "name = [\"Preetam\" , \"Kaushal\" , \"Harsh\"]\n",
    "\n",
    "age = [22,21,23]\n",
    "\n",
    "dict = {}\n",
    "\n",
    "for i in zip(name , age):\n",
    "    dict[i[0]] = i[1]\n",
    "    \n",
    "print(dict)\n"
   ]
  },
  {
   "cell_type": "code",
   "execution_count": 48,
   "metadata": {},
   "outputs": [
    {
     "name": "stdout",
     "output_type": "stream",
     "text": [
      "22\n",
      "22\n",
      "22\n"
     ]
    }
   ],
   "source": [
    "for i in zip(name , age):\n",
    "    print(i[1])"
   ]
  },
  {
   "cell_type": "code",
   "execution_count": 58,
   "metadata": {},
   "outputs": [
    {
     "name": "stdout",
     "output_type": "stream",
     "text": [
      "{1: 1}\n"
     ]
    }
   ],
   "source": [
    "# dict = {(\"Name\" , \"age\"):(\"Kaushal\" , 22)}\n",
    "\n",
    "\n",
    "dict = {}\n",
    "\n",
    "for i in range(5):\n",
    "    dict[i] = {i+1:(i+1)*(i+1)}\n",
    "# print(dict)\n",
    "\n",
    "\n",
    "print(dict[0])"
   ]
  },
  {
   "cell_type": "code",
   "execution_count": 67,
   "metadata": {},
   "outputs": [
    {
     "name": "stdout",
     "output_type": "stream",
     "text": [
      "1\n",
      "2\n"
     ]
    }
   ],
   "source": []
  },
  {
   "cell_type": "code",
   "execution_count": 73,
   "metadata": {},
   "outputs": [
    {
     "data": {
      "text/plain": [
       "69"
      ]
     },
     "execution_count": 73,
     "metadata": {},
     "output_type": "execute_result"
    }
   ],
   "source": [
    "def fn(x,y):\n",
    "    return x+y\n",
    "\n",
    "fn(68,1)"
   ]
  },
  {
   "cell_type": "code",
   "execution_count": 86,
   "metadata": {},
   "outputs": [
    {
     "name": "stdout",
     "output_type": "stream",
     "text": [
      "[4]\n",
      "[4]\n"
     ]
    }
   ],
   "source": [
    "def fn1():\n",
    "    \n",
    "    lis = []\n",
    "\n",
    "    def fn():\n",
    "        nonlocal lis \n",
    "        lis.append(4)\n",
    "        print(lis)\n",
    "    fn()\n",
    "    print(lis)\n",
    "    \n",
    "fn1()\n"
   ]
  },
  {
   "cell_type": "code",
   "execution_count": null,
   "metadata": {},
   "outputs": [],
   "source": []
  },
  {
   "cell_type": "code",
   "execution_count": 88,
   "metadata": {},
   "outputs": [
    {
     "data": {
      "text/plain": [
       "24"
      ]
     },
     "execution_count": 88,
     "metadata": {},
     "output_type": "execute_result"
    }
   ],
   "source": [
    "def factorial(n): \n",
    "    if n==0:\n",
    "        return 1\n",
    "    return n*factorial(n-1)\n",
    "\n",
    "factorial(4)"
   ]
  },
  {
   "cell_type": "code",
   "execution_count": 92,
   "metadata": {},
   "outputs": [
    {
     "name": "stdout",
     "output_type": "stream",
     "text": [
      "dict_items([(1, 1), (2, 2), (3, 3)])\n"
     ]
    }
   ],
   "source": [
    "dict = {1:1,2:2,3:3}\n",
    "print(dict.items())\n"
   ]
  },
  {
   "cell_type": "code",
   "execution_count": 97,
   "metadata": {},
   "outputs": [
    {
     "name": "stdout",
     "output_type": "stream",
     "text": [
      "Something is happening before the function is called.\n",
      "Hello!\n",
      "Something is happening after the function is called.\n"
     ]
    }
   ],
   "source": [
    "def my_decorator(func):\n",
    "    def wrapper():\n",
    "        print(\"Something is happening before the function is called.\")\n",
    "        func()\n",
    "        print(\"Something is happening after the function is called.\")\n",
    "    return wrapper\n",
    "\n",
    "def say_hello():\n",
    "    print(\"Hello!\")\n",
    "\n",
    "# Applying the decorator\n",
    "x = my_decorator(say_hello)\n",
    "x()\n"
   ]
  },
  {
   "cell_type": "code",
   "execution_count": 102,
   "metadata": {},
   "outputs": [
    {
     "name": "stdout",
     "output_type": "stream",
     "text": [
      "10\n"
     ]
    }
   ],
   "source": [
    "x = lambda a ,b,c : a+b+c   # fn(argument) : implementation\n",
    "\n",
    "print(x(4,5,1))"
   ]
  },
  {
   "cell_type": "code",
   "execution_count": 115,
   "metadata": {},
   "outputs": [
    {
     "name": "stdout",
     "output_type": "stream",
     "text": [
      "[3, 1, 4, 2]\n"
     ]
    }
   ],
   "source": [
    "import random\n",
    "ls = [1,2,3,4]\n",
    "random.shuffle(ls)\n",
    "\n",
    "print(ls)\n",
    "# ls[::-1]"
   ]
  },
  {
   "cell_type": "code",
   "execution_count": null,
   "metadata": {},
   "outputs": [],
   "source": []
  },
  {
   "cell_type": "code",
   "execution_count": null,
   "metadata": {},
   "outputs": [],
   "source": []
  }
 ],
 "metadata": {
  "kernelspec": {
   "display_name": "base",
   "language": "python",
   "name": "python3"
  },
  "language_info": {
   "codemirror_mode": {
    "name": "ipython",
    "version": 3
   },
   "file_extension": ".py",
   "mimetype": "text/x-python",
   "name": "python",
   "nbconvert_exporter": "python",
   "pygments_lexer": "ipython3",
   "version": "3.11.5"
  }
 },
 "nbformat": 4,
 "nbformat_minor": 2
}
